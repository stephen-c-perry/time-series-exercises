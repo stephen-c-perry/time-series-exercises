{
 "cells": [
  {
   "cell_type": "code",
   "execution_count": 3,
   "metadata": {},
   "outputs": [],
   "source": [
    "import os\n",
    "import requests\n",
    "import pandas as pd "
   ]
  },
  {
   "cell_type": "code",
   "execution_count": 10,
   "metadata": {},
   "outputs": [],
   "source": [
    "def star_wars_people():\n",
    " \n",
    "    url = 'https://swapi.dev/api/people'\n",
    "    response = requests.get(url)\n",
    "    data = response.json()\n",
    "    people = pd.DataFrame(data['results'])\n",
    "    \n",
    "    while data['next'] != None:\n",
    "        response = requests.get(data['next'])\n",
    "        data = response.json()\n",
    "        people = pd.concat([people,\n",
    "                               pd.DataFrame(data['results'])],\n",
    "                              ignore_index=True)\n",
    "    \n",
    "    return people"
   ]
  },
  {
   "cell_type": "code",
   "execution_count": 11,
   "metadata": {},
   "outputs": [],
   "source": [
    "people = star_wars_people()"
   ]
  },
  {
   "cell_type": "code",
   "execution_count": 6,
   "metadata": {},
   "outputs": [],
   "source": [
    "people = star_wars_people()\n",
    "people.to_csv('people_star_wars.csv')"
   ]
  },
  {
   "cell_type": "code",
   "execution_count": 7,
   "metadata": {},
   "outputs": [],
   "source": [
    "def star_wars_planets():\n",
    " \n",
    "    url = 'https://swapi.dev/api/planets'\n",
    "    response = requests.get(url)\n",
    "    data = response.json()\n",
    "    planets = pd.DataFrame(data['results'])\n",
    "    \n",
    "    while data['next'] != None:\n",
    "        response = requests.get(data['next'])\n",
    "        data = response.json()\n",
    "        planets = pd.concat([planets,\n",
    "                               pd.DataFrame(data['results'])],\n",
    "                              ignore_index=True)\n",
    "    \n",
    "    return planets"
   ]
  },
  {
   "cell_type": "code",
   "execution_count": 8,
   "metadata": {},
   "outputs": [],
   "source": [
    "planets = star_wars_planets()"
   ]
  },
  {
   "cell_type": "code",
   "execution_count": 9,
   "metadata": {},
   "outputs": [],
   "source": [
    "planets = star_wars_planets()\n",
    "planets.to_csv('planets_star_wars.csv')"
   ]
  },
  {
   "cell_type": "code",
   "execution_count": 12,
   "metadata": {},
   "outputs": [],
   "source": [
    "def star_wars_starships():\n",
    " \n",
    "    url = 'https://swapi.dev/api/starships'\n",
    "    response = requests.get(url)\n",
    "    data = response.json()\n",
    "    starships = pd.DataFrame(data['results'])\n",
    "    \n",
    "    while data['next'] != None:\n",
    "        response = requests.get(data['next'])\n",
    "        data = response.json()\n",
    "        starships = pd.concat([starships,\n",
    "                               pd.DataFrame(data['results'])],\n",
    "                              ignore_index=True)\n",
    "    \n",
    "    return starships"
   ]
  },
  {
   "cell_type": "code",
   "execution_count": 13,
   "metadata": {},
   "outputs": [],
   "source": [
    "starships = star_wars_starships()"
   ]
  },
  {
   "cell_type": "code",
   "execution_count": 14,
   "metadata": {},
   "outputs": [],
   "source": [
    "starships = star_wars_starships()\n",
    "starships.to_csv('starships_star_wars.csv')"
   ]
  },
  {
   "cell_type": "code",
   "execution_count": 15,
   "metadata": {},
   "outputs": [],
   "source": [
    "all_star_wars = pd.concat([people, planets, starships], axis= 0)"
   ]
  },
  {
   "cell_type": "code",
   "execution_count": 16,
   "metadata": {},
   "outputs": [
    {
     "name": "stdout",
     "output_type": "stream",
     "text": [
      "<class 'pandas.core.frame.DataFrame'>\n",
      "Int64Index: 178 entries, 0 to 35\n",
      "Data columns (total 38 columns):\n",
      " #   Column                  Non-Null Count  Dtype \n",
      "---  ------                  --------------  ----- \n",
      " 0   name                    178 non-null    object\n",
      " 1   height                  82 non-null     object\n",
      " 2   mass                    82 non-null     object\n",
      " 3   hair_color              82 non-null     object\n",
      " 4   skin_color              82 non-null     object\n",
      " 5   eye_color               82 non-null     object\n",
      " 6   birth_year              82 non-null     object\n",
      " 7   gender                  82 non-null     object\n",
      " 8   homeworld               82 non-null     object\n",
      " 9   films                   178 non-null    object\n",
      " 10  species                 82 non-null     object\n",
      " 11  vehicles                82 non-null     object\n",
      " 12  starships               82 non-null     object\n",
      " 13  created                 178 non-null    object\n",
      " 14  edited                  178 non-null    object\n",
      " 15  url                     178 non-null    object\n",
      " 16  rotation_period         60 non-null     object\n",
      " 17  orbital_period          60 non-null     object\n",
      " 18  diameter                60 non-null     object\n",
      " 19  climate                 60 non-null     object\n",
      " 20  gravity                 60 non-null     object\n",
      " 21  terrain                 60 non-null     object\n",
      " 22  surface_water           60 non-null     object\n",
      " 23  population              60 non-null     object\n",
      " 24  residents               60 non-null     object\n",
      " 25  model                   36 non-null     object\n",
      " 26  manufacturer            36 non-null     object\n",
      " 27  cost_in_credits         36 non-null     object\n",
      " 28  length                  36 non-null     object\n",
      " 29  max_atmosphering_speed  36 non-null     object\n",
      " 30  crew                    36 non-null     object\n",
      " 31  passengers              36 non-null     object\n",
      " 32  cargo_capacity          36 non-null     object\n",
      " 33  consumables             36 non-null     object\n",
      " 34  hyperdrive_rating       36 non-null     object\n",
      " 35  MGLT                    36 non-null     object\n",
      " 36  starship_class          36 non-null     object\n",
      " 37  pilots                  36 non-null     object\n",
      "dtypes: object(38)\n",
      "memory usage: 54.2+ KB\n"
     ]
    }
   ],
   "source": [
    "all_star_wars.info()"
   ]
  },
  {
   "cell_type": "code",
   "execution_count": null,
   "metadata": {},
   "outputs": [],
   "source": []
  }
 ],
 "metadata": {
  "kernelspec": {
   "display_name": "base",
   "language": "python",
   "name": "python3"
  },
  "language_info": {
   "codemirror_mode": {
    "name": "ipython",
    "version": 3
   },
   "file_extension": ".py",
   "mimetype": "text/x-python",
   "name": "python",
   "nbconvert_exporter": "python",
   "pygments_lexer": "ipython3",
   "version": "3.9.13"
  },
  "orig_nbformat": 4,
  "vscode": {
   "interpreter": {
    "hash": "38cca0c38332a56087b24af0bc80247f4fced29cb4f7f437d91dc159adec9c4e"
   }
  }
 },
 "nbformat": 4,
 "nbformat_minor": 2
}
